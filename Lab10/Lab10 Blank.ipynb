{
 "cells": [
  {
   "cell_type": "markdown",
   "id": "021084a6",
   "metadata": {},
   "source": [
    "<a href='https://www.darshan.ac.in/'> <img src='https://www.darshan.ac.in/Content/media/DU_Logo.svg' width=\"250\" height=\"300\"/></a>\n",
    "<pre>\n",
    "<center><b><h1>Machine Learning - 2301CS621</b></center>\n",
    "\n",
    "<center><b><h1>Lab - 10 </b></center>\n",
    "<pre>    "
   ]
  },
  {
   "cell_type": "markdown",
   "id": "e5007b06",
   "metadata": {},
   "source": [
    "### Namra Pithwa\n",
    "### 23010101641\n",
    "### 21/02/2025"
   ]
  },
  {
   "cell_type": "markdown",
   "id": "c30ce910",
   "metadata": {},
   "source": [
    "# Step 1: Import Libraries"
   ]
  },
  {
   "cell_type": "code",
   "execution_count": 1,
   "id": "24301352",
   "metadata": {},
   "outputs": [],
   "source": [
    "import pandas as pd\n",
    "import numpy as np\n",
    "import matplotlib.pyplot as plt\n",
    "import seaborn as sns\n",
    "from sklearn.cluster import DBSCAN\n",
    "from sklearn.preprocessing import StandardScaler\n",
    "from sklearn.datasets import make_blobs, make_moons\n",
    "from sklearn.preprocessing import StandardScaler\n",
    "from sklearn.neighbors import NearestNeighbors\n",
    "from scipy.cluster.hierarchy import dendrogram, linkage"
   ]
  },
  {
   "cell_type": "markdown",
   "id": "535c00e9",
   "metadata": {},
   "source": [
    "# Step 2: Generate dummy data using make_blobs"
   ]
  },
  {
   "cell_type": "code",
   "execution_count": 5,
   "id": "bf599562",
   "metadata": {},
   "outputs": [],
   "source": [
    "# Generate dummy data using make_blobs\n",
    "x , y = make_blobs(n_samples=300, random_state=42)\n",
    "# Standardize the data\n",
    "x = StandardScaler().fit_transform(x)"
   ]
  },
  {
   "cell_type": "code",
   "execution_count": 7,
   "id": "be85557c",
   "metadata": {},
   "outputs": [
    {
     "data": {
      "text/plain": [
       "array([[-1.17252292e+00, -1.37037478e+00],\n",
       "       [-1.25431875e+00, -1.30020394e+00],\n",
       "       [-1.97125297e-02,  9.70729957e-01],\n",
       "       [ 1.22620543e+00,  2.58674669e-01],\n",
       "       [-1.49451639e+00, -1.39423947e+00],\n",
       "       [ 1.44552434e+00,  6.88460734e-02],\n",
       "       [-1.52152220e-01,  1.21295731e+00],\n",
       "       [ 1.35482073e+00,  7.95054866e-03],\n",
       "       [-2.85201970e-01,  1.12684758e+00],\n",
       "       [-4.30442823e-01,  1.25386282e+00],\n",
       "       [-3.10192808e-01,  1.43419168e+00],\n",
       "       [ 1.34341650e+00, -1.15320250e-02],\n",
       "       [-1.44874635e-01,  8.59306522e-01],\n",
       "       [-4.76141995e-01,  1.09140897e+00],\n",
       "       [-1.21153538e+00, -1.31567263e+00],\n",
       "       [-3.30658767e-01,  1.10543189e+00],\n",
       "       [-1.41077697e+00, -1.23495683e+00],\n",
       "       [ 8.57568372e-01,  1.21086054e-01],\n",
       "       [-1.67673727e-01,  1.30092975e+00],\n",
       "       [-6.77817519e-02,  1.48519269e+00],\n",
       "       [ 4.88259900e-02,  1.03107884e+00],\n",
       "       [-2.20367673e-01,  1.21578253e+00],\n",
       "       [ 1.46948068e+00,  7.07886971e-02],\n",
       "       [-1.10174455e+00, -1.27553331e+00],\n",
       "       [-2.81988377e-01,  1.08460972e+00],\n",
       "       [-9.70779798e-01, -1.02480364e+00],\n",
       "       [-1.19646912e+00, -1.12828700e+00],\n",
       "       [ 1.10372364e+00,  4.08522422e-01],\n",
       "       [ 1.26810438e+00, -4.23495414e-02],\n",
       "       [-3.68892057e-01,  1.03181360e+00],\n",
       "       [-3.89495769e-01,  1.06944293e+00],\n",
       "       [-4.05884646e-01,  1.22760939e+00],\n",
       "       [-9.09485488e-01, -1.37131576e+00],\n",
       "       [-1.43807931e-01,  9.66975489e-01],\n",
       "       [-1.38786258e+00, -1.03606840e+00],\n",
       "       [-1.41081857e-01,  1.35197906e+00],\n",
       "       [-9.24444865e-01, -1.38128160e+00],\n",
       "       [ 1.32056380e+00,  1.65138262e-02],\n",
       "       [-1.10066407e+00, -1.39833490e+00],\n",
       "       [ 1.34030428e+00,  3.75914524e-01],\n",
       "       [ 1.52899239e+00, -1.37579814e-02],\n",
       "       [-1.34944820e-01,  1.14361977e+00],\n",
       "       [-1.17828363e+00, -1.30744328e+00],\n",
       "       [ 1.24724141e+00,  2.79643401e-01],\n",
       "       [-1.94552546e-01,  9.78597125e-01],\n",
       "       [-1.13765284e-01,  1.38680047e+00],\n",
       "       [-1.06423877e+00, -1.31424476e+00],\n",
       "       [ 1.17161083e+00,  1.05314174e-01],\n",
       "       [-1.00997986e+00, -1.30432432e+00],\n",
       "       [ 1.59407493e+00, -9.37100328e-02],\n",
       "       [ 1.28606271e+00, -9.15706506e-03],\n",
       "       [-1.08046096e+00, -1.01901618e+00],\n",
       "       [-1.00406613e+00, -1.38395315e+00],\n",
       "       [ 1.13947849e-01,  1.07668602e+00],\n",
       "       [-8.38313793e-01, -1.23202603e+00],\n",
       "       [ 1.37564763e+00,  6.74002351e-01],\n",
       "       [-9.98385242e-01, -1.30569783e+00],\n",
       "       [ 9.01041035e-03,  1.21709912e+00],\n",
       "       [ 1.29375434e+00,  1.92823459e-01],\n",
       "       [-2.81421608e-01,  1.31427312e+00],\n",
       "       [-1.03078063e+00, -1.12595335e+00],\n",
       "       [ 1.70564056e+00, -2.01430420e-01],\n",
       "       [ 1.45407818e+00,  1.39310886e-01],\n",
       "       [-4.50888138e-01, -1.07336396e+00],\n",
       "       [-1.12961188e+00, -1.09568464e+00],\n",
       "       [ 1.08736784e+00,  1.67153629e-01],\n",
       "       [ 1.12407334e+00,  6.07763646e-02],\n",
       "       [-9.33698972e-01, -1.41181740e+00],\n",
       "       [-1.42624476e+00, -1.25058581e+00],\n",
       "       [-4.04132938e-01,  1.22627019e+00],\n",
       "       [ 1.53685838e+00,  9.61342410e-02],\n",
       "       [-8.62966134e-01, -1.50744650e+00],\n",
       "       [-1.22154599e+00, -1.20993798e+00],\n",
       "       [-9.09547761e-02,  1.14386364e+00],\n",
       "       [-2.67444587e-01,  9.34132365e-01],\n",
       "       [-1.02367445e+00, -1.24978506e+00],\n",
       "       [-1.50049580e+00, -1.25564890e+00],\n",
       "       [ 1.11577481e+00,  1.15647716e-01],\n",
       "       [-3.09975002e-01,  1.11085633e+00],\n",
       "       [ 1.51115242e+00,  2.22095982e-02],\n",
       "       [-3.94042858e-01,  1.20223914e+00],\n",
       "       [-2.02159654e-01,  1.30619124e+00],\n",
       "       [-9.76671384e-01, -1.38963503e+00],\n",
       "       [-1.19910829e-01,  1.30197037e+00],\n",
       "       [ 1.46444388e+00,  5.96299005e-03],\n",
       "       [-9.08393056e-01, -1.41258123e+00],\n",
       "       [-8.40662336e-01, -1.20383903e+00],\n",
       "       [ 1.93057209e-01,  1.22630646e+00],\n",
       "       [ 1.63067172e+00,  1.54042471e-01],\n",
       "       [-4.68452689e-01,  1.01341238e+00],\n",
       "       [-1.41931502e+00, -1.16026369e+00],\n",
       "       [-1.94779804e-01,  1.39081312e+00],\n",
       "       [-9.81145573e-01, -1.19188854e+00],\n",
       "       [-7.74030093e-04,  1.20442647e+00],\n",
       "       [-2.95519127e-01,  1.23225363e+00],\n",
       "       [-1.19175332e+00, -1.42286220e+00],\n",
       "       [-1.29657923e+00, -1.26368103e+00],\n",
       "       [-1.34469120e-01,  1.27275485e+00],\n",
       "       [-1.23450386e+00, -1.51440533e+00],\n",
       "       [-9.94513653e-01, -9.59166431e-01],\n",
       "       [ 1.17373566e+00, -5.56285617e-03],\n",
       "       [-1.14501196e-01,  1.23941975e+00],\n",
       "       [ 1.22815500e+00,  1.86164746e-02],\n",
       "       [-2.61396914e-02,  1.01770109e+00],\n",
       "       [-3.58633855e-01,  1.10821432e+00],\n",
       "       [-1.38124063e-01,  8.66302643e-01],\n",
       "       [-1.17391020e-01,  8.88960557e-01],\n",
       "       [-1.36384226e-01,  1.20709540e+00],\n",
       "       [ 1.70975003e+00, -2.27581172e-02],\n",
       "       [-1.36407688e+00, -1.15730642e+00],\n",
       "       [ 1.41056693e+00, -1.50249273e-01],\n",
       "       [-3.47219786e-01,  1.10627653e+00],\n",
       "       [-3.52367621e-01,  1.07917640e+00],\n",
       "       [-1.73700403e-01,  9.39978834e-01],\n",
       "       [-1.90225777e-01,  9.95332227e-01],\n",
       "       [ 1.31120095e+00,  2.44709110e-03],\n",
       "       [-1.29038431e+00, -1.27091382e+00],\n",
       "       [ 9.21203331e-01,  2.97145975e-01],\n",
       "       [-1.46038842e+00, -1.29522082e+00],\n",
       "       [ 1.06542195e+00, -9.01468297e-02],\n",
       "       [ 1.37652439e+00,  3.24121083e-01],\n",
       "       [ 1.31630646e+00,  9.48657000e-02],\n",
       "       [ 9.86310380e-02,  9.43431981e-01],\n",
       "       [-9.61244430e-01, -1.19526852e+00],\n",
       "       [-1.01105850e+00, -1.35508887e+00],\n",
       "       [-1.10492408e+00, -1.38631495e+00],\n",
       "       [-9.53573814e-01, -1.12796781e+00],\n",
       "       [-3.25533207e-01,  1.24709481e+00],\n",
       "       [-8.67225598e-01, -1.31912486e+00],\n",
       "       [-1.18698251e+00, -1.36178283e+00],\n",
       "       [ 3.34185010e-02,  1.31377240e+00],\n",
       "       [-5.78811999e-01,  1.15084847e+00],\n",
       "       [-1.68758099e-01,  8.55099067e-01],\n",
       "       [-5.39275032e-01,  1.07004771e+00],\n",
       "       [-4.89021877e-01,  1.04628637e+00],\n",
       "       [ 1.37359578e+00,  2.23532353e-01],\n",
       "       [ 1.21909013e+00, -9.52132728e-02],\n",
       "       [-1.13387670e+00, -1.38981729e+00],\n",
       "       [-1.86430074e-01,  1.11946866e+00],\n",
       "       [-1.18363958e+00, -1.40195003e+00],\n",
       "       [-2.83223657e-01,  1.23667129e+00],\n",
       "       [-2.37520605e-01,  1.04117508e+00],\n",
       "       [-6.58539328e-01, -9.77483222e-01],\n",
       "       [-1.69719473e-01,  1.10975336e+00],\n",
       "       [ 9.60722182e-01,  1.99386171e-02],\n",
       "       [ 1.12471385e+00,  1.95457693e-01],\n",
       "       [ 1.43638776e+00,  1.87921813e-01],\n",
       "       [-1.31041078e-01,  1.27959571e+00],\n",
       "       [ 1.53118565e+00,  3.75092907e-03],\n",
       "       [-3.26166016e-01,  1.18987356e+00],\n",
       "       [-3.72667153e-01,  9.41855604e-01],\n",
       "       [-6.78123458e-01, -1.23689044e+00],\n",
       "       [ 1.32791126e+00, -9.43547123e-04],\n",
       "       [-1.39172200e+00, -1.04952039e+00],\n",
       "       [-1.27078379e-01,  1.19421717e+00],\n",
       "       [ 1.02579817e+00,  4.25200319e-02],\n",
       "       [ 1.26682634e+00,  4.94336169e-02],\n",
       "       [-1.18703218e+00, -1.32904852e+00],\n",
       "       [-9.48592108e-01, -1.49278471e+00],\n",
       "       [-3.67738296e-01,  1.17803056e+00],\n",
       "       [-7.21777680e-01,  1.27879931e+00],\n",
       "       [-1.25741983e+00, -1.45075051e+00],\n",
       "       [-7.62472917e-01, -1.22476353e+00],\n",
       "       [-8.33843810e-01, -1.30375099e+00],\n",
       "       [-1.75601139e-01,  9.82474144e-01],\n",
       "       [-9.01166475e-01, -1.29137664e+00],\n",
       "       [ 1.17453250e+00,  1.27962393e-01],\n",
       "       [-1.75188850e-01,  1.52633199e+00],\n",
       "       [-8.10214644e-02,  1.19963573e+00],\n",
       "       [-2.15537545e-02,  9.69218727e-01],\n",
       "       [ 4.56090884e-02,  1.26824712e+00],\n",
       "       [-3.74992249e-01,  1.38859480e+00],\n",
       "       [ 1.09933841e+00,  2.57139461e-03],\n",
       "       [-2.78541013e-01,  1.28400174e+00],\n",
       "       [ 1.07042058e+00,  1.62657082e-01],\n",
       "       [ 1.27560107e+00,  1.68070429e-01],\n",
       "       [ 1.44851450e+00,  1.20616682e-01],\n",
       "       [-2.41450516e-01,  1.56507951e+00],\n",
       "       [ 1.70342213e+00,  2.48674127e-01],\n",
       "       [ 1.39789321e+00,  1.87728272e-01],\n",
       "       [-1.06117467e+00, -1.26568648e+00],\n",
       "       [-2.98501433e-01,  1.17157545e+00],\n",
       "       [-1.21397897e+00, -1.15615582e+00],\n",
       "       [ 1.60353722e+00, -1.22714963e-01],\n",
       "       [ 1.38703694e+00,  2.64222837e-01],\n",
       "       [-1.58293406e+00, -1.36238945e+00],\n",
       "       [ 1.33671682e+00,  7.33395700e-02],\n",
       "       [ 1.11450389e-01,  1.12079743e+00],\n",
       "       [ 6.09536160e-01, -6.15226845e-02],\n",
       "       [ 1.18085378e+00,  1.12683789e-01],\n",
       "       [-1.09161850e+00, -1.09816226e+00],\n",
       "       [-7.46673995e-01, -1.45034358e+00],\n",
       "       [ 1.10223957e+00,  4.44979825e-02],\n",
       "       [-1.40647436e+00, -1.21152395e+00],\n",
       "       [ 1.12164173e+00,  1.25611040e-01],\n",
       "       [ 1.00133671e+00,  3.69171435e-01],\n",
       "       [ 1.26672373e+00, -5.82262077e-02],\n",
       "       [ 1.70786583e+00,  1.88568821e-01],\n",
       "       [-3.86262165e-01,  1.27354837e+00],\n",
       "       [-1.04174276e+00, -1.20477410e+00],\n",
       "       [-3.68605523e-02,  1.18069135e+00],\n",
       "       [-2.11059785e-01,  1.10943720e+00],\n",
       "       [ 1.10290788e+00,  1.29717426e-01],\n",
       "       [ 1.15039947e+00,  2.21096282e-01],\n",
       "       [-2.17559524e-02,  1.35938349e+00],\n",
       "       [ 1.33401266e+00,  3.15467120e-01],\n",
       "       [-1.27987663e+00, -1.16619264e+00],\n",
       "       [-1.21070535e+00, -1.40531833e+00],\n",
       "       [ 1.29038476e+00,  1.82723071e-01],\n",
       "       [-1.13716250e-01,  1.05755567e+00],\n",
       "       [-1.67148790e-01,  1.07891721e+00],\n",
       "       [-1.27563389e+00, -1.13874422e+00],\n",
       "       [ 1.56656714e+00,  2.37635574e-01],\n",
       "       [ 1.01344116e+00,  2.31390644e-01],\n",
       "       [-1.06893879e+00, -1.36752531e+00],\n",
       "       [-7.72424785e-01, -1.23103425e+00],\n",
       "       [-9.49777196e-01, -8.99762276e-01],\n",
       "       [-9.61139361e-01, -1.27283014e+00],\n",
       "       [-4.39752706e-01,  9.55707189e-01],\n",
       "       [-1.13493252e+00, -1.58936448e+00],\n",
       "       [-9.09675212e-01, -1.57567294e+00],\n",
       "       [ 8.37427380e-01,  1.36767858e-02],\n",
       "       [-1.23309487e+00, -1.45670062e+00],\n",
       "       [-1.34488530e+00, -1.14121435e+00],\n",
       "       [-1.84821204e-01,  1.37405654e+00],\n",
       "       [ 1.10896522e+00,  7.56630624e-02],\n",
       "       [-1.16944983e+00, -1.18530738e+00],\n",
       "       [-7.34737427e-01, -1.10924728e+00],\n",
       "       [ 1.20630206e+00,  2.07427813e-01],\n",
       "       [-2.03198098e-01,  1.20629666e+00],\n",
       "       [-1.98113963e-02,  1.44090502e+00],\n",
       "       [-8.89938286e-01, -9.54246839e-01],\n",
       "       [-2.57370610e-01,  1.03385453e+00],\n",
       "       [-1.32016396e+00, -1.54974799e+00],\n",
       "       [ 1.27989666e+00, -5.30212066e-03],\n",
       "       [ 1.40968846e+00,  4.61748670e-02],\n",
       "       [-1.21177880e+00, -1.23506033e+00],\n",
       "       [ 1.26633920e+00,  1.10660927e-01],\n",
       "       [-7.43338922e-01, -1.27976605e+00],\n",
       "       [-1.09231208e+00, -1.42484360e+00],\n",
       "       [-1.01973448e+00, -9.29214540e-01],\n",
       "       [ 1.33642154e+00, -3.17892121e-02],\n",
       "       [ 1.50680226e+00,  2.12358361e-01],\n",
       "       [-5.98662867e-02,  1.02557796e+00],\n",
       "       [-7.68189289e-01, -1.16093482e+00],\n",
       "       [ 9.45413945e-01,  2.57405229e-03],\n",
       "       [ 1.41135904e+00,  3.24580123e-02],\n",
       "       [ 1.27167161e+00,  1.00051831e-01],\n",
       "       [-1.02586375e+00, -1.37858982e+00],\n",
       "       [ 1.38218426e+00,  6.24736711e-02],\n",
       "       [-1.00313862e+00, -1.33329642e+00],\n",
       "       [ 1.24842019e+00,  1.53549319e-01],\n",
       "       [-1.19965539e+00, -1.37250822e+00],\n",
       "       [ 1.74268355e+00, -1.88638206e-01],\n",
       "       [ 1.71721888e+00, -2.89339519e-02],\n",
       "       [-1.01215712e+00, -1.27525144e+00],\n",
       "       [ 1.08155196e+00,  8.39895220e-02],\n",
       "       [-4.58360421e-01,  1.18453598e+00],\n",
       "       [-1.38039692e+00, -1.06971747e+00],\n",
       "       [-1.27699987e-01,  1.04711475e+00],\n",
       "       [-2.33048869e-01,  1.26252646e+00],\n",
       "       [ 2.28023999e-02,  1.29529470e+00],\n",
       "       [-1.06305542e+00, -1.37210004e+00],\n",
       "       [-5.03735336e-01,  1.16518714e+00],\n",
       "       [ 1.43894823e+00,  2.15653128e-01],\n",
       "       [ 1.13562885e+00,  2.21523265e-01],\n",
       "       [-1.05430027e+00, -1.16462536e+00],\n",
       "       [ 1.28483849e+00,  3.48569500e-02],\n",
       "       [ 1.42301487e+00,  1.85017401e-01],\n",
       "       [-2.26705562e-01,  1.20032383e+00],\n",
       "       [ 1.34612110e-01,  1.27058495e+00],\n",
       "       [ 1.29052347e+00, -2.36120445e-02],\n",
       "       [ 1.17435026e+00,  2.57192758e-01],\n",
       "       [ 1.37564510e+00,  1.70451388e-01],\n",
       "       [-1.05857580e+00, -1.12889086e+00],\n",
       "       [-8.73598543e-01, -1.32921044e+00],\n",
       "       [-1.13378123e+00, -1.13399505e+00],\n",
       "       [-4.13113243e-01,  9.74445501e-01],\n",
       "       [ 1.97220171e-01,  1.18117538e+00],\n",
       "       [-3.60179042e-01,  9.26390874e-01],\n",
       "       [ 1.11298218e+00,  5.72516834e-02],\n",
       "       [ 1.36112042e+00,  2.09790248e-01],\n",
       "       [ 1.56455406e+00, -1.23577720e-01],\n",
       "       [ 9.75261094e-01, -1.19294922e-01],\n",
       "       [-1.00979758e+00, -1.30483873e+00],\n",
       "       [ 1.28371224e+00, -6.95695475e-02],\n",
       "       [-9.47208596e-01, -1.03580338e+00],\n",
       "       [ 1.46517360e+00,  1.91203832e-01],\n",
       "       [ 1.23964513e+00,  1.81691549e-01],\n",
       "       [-1.00050364e+00, -1.24713933e+00],\n",
       "       [-1.21375102e-01,  1.09677228e+00],\n",
       "       [ 1.17880997e+00,  1.86899477e-01],\n",
       "       [ 1.50783281e+00,  9.45098847e-02],\n",
       "       [-2.32275705e-01,  1.20870370e+00],\n",
       "       [-1.12756907e+00, -1.37907951e+00],\n",
       "       [-4.22221496e-01,  1.21150660e+00],\n",
       "       [ 1.10152618e+00,  8.48495066e-03],\n",
       "       [-5.15323901e-01,  1.18269195e+00],\n",
       "       [-1.07507843e+00, -9.89382772e-01],\n",
       "       [-9.01476235e-01, -1.03776298e+00]])"
      ]
     },
     "execution_count": 7,
     "metadata": {},
     "output_type": "execute_result"
    }
   ],
   "source": [
    "x"
   ]
  },
  {
   "cell_type": "markdown",
   "id": "b0e853bb",
   "metadata": {},
   "source": [
    "# Step 3: Plot Generated data "
   ]
  },
  {
   "cell_type": "code",
   "execution_count": 8,
   "id": "8252848e",
   "metadata": {
    "scrolled": true
   },
   "outputs": [
    {
     "name": "stderr",
     "output_type": "stream",
     "text": [
      "C:\\Users\\namra\\AppData\\Local\\Temp\\ipykernel_11848\\1235300789.py:4: UserWarning: No data for colormapping provided via 'c'. Parameters 'cmap' will be ignored\n",
      "  plt.scatter(x[:,0], x[:,1],s=5, cmap='viridis')\n"
     ]
    },
    {
     "data": {
      "image/png": "[encoded data removed]",
      "text/plain": [
       "<Figure size 600x600 with 1 Axes>"
      ]
     },
     "metadata": {},
     "output_type": "display_data"
    }
   ],
   "source": [
    "# plot the generated data\n",
    "\n",
    "plt.figure(figsize=(6,6))\n",
    "plt.scatter(x[:,0], x[:,1],s=5, cmap='viridis')\n",
    "plt.xlabel('X1')\n",
    "plt.ylabel('X2')\n",
    "plt.title('Generated Data')\n",
    "plt.show()"
   ]
  },
  {
   "cell_type": "markdown",
   "id": "f28cc6e9",
   "metadata": {},
   "source": [
    "# Step 4: Apply Hierarchical Clustering"
   ]
  },
  {
   "cell_type": "code",
   "execution_count": 11,
   "id": "010b8b56",
   "metadata": {},
   "outputs": [
    {
     "data": {
      "image/png": "[encoded data removed]",
      "text/plain": [
       "<Figure size 1000x700 with 1 Axes>"
      ]
     },
     "metadata": {},
     "output_type": "display_data"
    }
   ],
   "source": [
    "# Apply Hierarchical Clustering\n",
    "linked = linkage(x, 'single')\n",
    "plt.figure(figsize=(10,7))\n",
    "dendrogram(linked, orientation='top', distance_sort='descending', show_leaf_counts=True)\n",
    "plt.title('Hierarchical Clustering')\n",
    "plt.show()"
   ]
  },
  {
   "cell_type": "code",
   "execution_count": null,
   "id": "bee74bc1",
   "metadata": {},
   "outputs": [],
   "source": []
  },
  {
   "cell_type": "code",
   "execution_count": null,
   "id": "e2fffac3",
   "metadata": {},
   "outputs": [],
   "source": []
  },
  {
   "cell_type": "code",
   "execution_count": null,
   "id": "ad71fd6d",
   "metadata": {},
   "outputs": [],
   "source": []
  },
  {
   "cell_type": "markdown",
   "id": "8f87831f",
   "metadata": {},
   "source": [
    "# Step 5: Display Dendrogram"
   ]
  },
  {
   "cell_type": "code",
   "execution_count": null,
   "id": "f2edf5d8",
   "metadata": {},
   "outputs": [],
   "source": []
  },
  {
   "cell_type": "markdown",
   "id": "0776fa93",
   "metadata": {},
   "source": [
    "# Step 6: Generate dummy data using make_moons"
   ]
  },
  {
   "cell_type": "code",
   "execution_count": null,
   "id": "6d539a8f",
   "metadata": {},
   "outputs": [],
   "source": []
  },
  {
   "cell_type": "markdown",
   "id": "985ad355",
   "metadata": {},
   "source": [
    "# Step 7: Plot Generated data"
   ]
  },
  {
   "cell_type": "code",
   "execution_count": null,
   "id": "be569a99",
   "metadata": {},
   "outputs": [],
   "source": []
  },
  {
   "cell_type": "markdown",
   "id": "c06b3e83",
   "metadata": {},
   "source": [
    "# Step 8: apply DBSCAN Clustering "
   ]
  },
  {
   "cell_type": "code",
   "execution_count": null,
   "id": "c1820361",
   "metadata": {},
   "outputs": [],
   "source": []
  },
  {
   "cell_type": "code",
   "execution_count": null,
   "id": "ff0d2b86",
   "metadata": {},
   "outputs": [],
   "source": []
  },
  {
   "cell_type": "code",
   "execution_count": null,
   "id": "c3555e51",
   "metadata": {},
   "outputs": [],
   "source": []
  },
  {
   "cell_type": "markdown",
   "id": "e139f3b7",
   "metadata": {},
   "source": [
    "# Step 9: apply K Mean Clustering on same data"
   ]
  },
  {
   "cell_type": "code",
   "execution_count": null,
   "id": "a9192aed",
   "metadata": {},
   "outputs": [],
   "source": []
  },
  {
   "cell_type": "markdown",
   "id": "82a08d17",
   "metadata": {},
   "source": [
    "# Mall Customers Segmentation using DBSCAN"
   ]
  },
  {
   "cell_type": "markdown",
   "id": "4712b42c",
   "metadata": {},
   "source": [
    "### Perform Following steps on Dataset for  customer segmentation\n",
    "-> Load & Explore the Dataset <br>\n",
    "-> Data Preprocessing <br>\n",
    "-> Apply DBSCAN <br>\n",
    "-> Visualizing Customer Segments <br>\n",
    "-> Outliers (high-spending VIP customers or unusual shoppers <br>"
   ]
  },
  {
   "cell_type": "code",
   "execution_count": null,
   "id": "af674c44",
   "metadata": {},
   "outputs": [],
   "source": []
  },
  {
   "cell_type": "code",
   "execution_count": null,
   "id": "5035ed32",
   "metadata": {},
   "outputs": [],
   "source": []
  },
  {
   "cell_type": "code",
   "execution_count": null,
   "id": "72b67850",
   "metadata": {},
   "outputs": [],
   "source": []
  },
  {
   "cell_type": "code",
   "execution_count": null,
   "id": "2b826014",
   "metadata": {},
   "outputs": [],
   "source": []
  },
  {
   "cell_type": "code",
   "execution_count": null,
   "id": "28cd466b",
   "metadata": {},
   "outputs": [],
   "source": []
  },
  {
   "cell_type": "code",
   "execution_count": null,
   "id": "b4063283",
   "metadata": {},
   "outputs": [],
   "source": []
  },
  {
   "cell_type": "code",
   "execution_count": null,
   "id": "bed88fc6",
   "metadata": {},
   "outputs": [],
   "source": []
  },
  {
   "cell_type": "code",
   "execution_count": null,
   "id": "fa1bf718",
   "metadata": {},
   "outputs": [],
   "source": []
  }
 ],
 "metadata": {
  "kernelspec": {
   "display_name": "Python 3",
   "language": "python",
   "name": "python3"
  },
  "language_info": {
   "codemirror_mode": {
    "name": "ipython",
    "version": 3
   },
   "file_extension": ".py",
   "mimetype": "text/x-python",
   "name": "python",
   "nbconvert_exporter": "python",
   "pygments_lexer": "ipython3",
   "version": "3.12.6"
  }
 },
 "nbformat": 4,
 "nbformat_minor": 5
}
