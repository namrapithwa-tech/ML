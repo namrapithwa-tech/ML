{
 "cells": [
  {
   "cell_type": "markdown",
   "id": "4a7f5837",
   "metadata": {},
   "source": [
    "<a href='https://www.darshan.ac.in/'> <img src='https://www.darshan.ac.in/Content/media/DU_Logo.svg' width=\"250\" height=\"300\"/></a>\n",
    "<pre>\n",
    "<center><b><h1>Machine Learning - 2301CS621</b></center>\n",
    "\n",
    "<center><b><h1>Lab - 11 </b></center>\n",
    "<pre>    "
   ]
  },
  {
   "cell_type": "markdown",
   "id": "3a14aeb1",
   "metadata": {},
   "source": [
    "## Step 1: Import Necessary Libraries\n",
    "complete the import statements below."
   ]
  },
  {
   "cell_type": "code",
   "execution_count": null,
   "id": "30230f15",
   "metadata": {},
   "outputs": [],
   "source": []
  },
  {
   "cell_type": "markdown",
   "id": "8643b065",
   "metadata": {},
   "source": [
    "## Step 2: Load the Dataset\n",
    "Load the dataset (e.g., Iris dataset) or use your own."
   ]
  },
  {
   "cell_type": "code",
   "execution_count": null,
   "id": "e86ad1e4",
   "metadata": {},
   "outputs": [],
   "source": []
  },
  {
   "cell_type": "markdown",
   "id": "942db594",
   "metadata": {},
   "source": [
    "## Step 3: Preprocess the Data (Standardization)\n",
    "Standardize the dataset before applying PCA or LDA."
   ]
  },
  {
   "cell_type": "code",
   "execution_count": null,
   "id": "c7d1af8b",
   "metadata": {},
   "outputs": [],
   "source": []
  },
  {
   "cell_type": "markdown",
   "id": "3ac844f9",
   "metadata": {},
   "source": [
    "## Step 4: Apply PCA\n",
    "Perform PCA and extract the principal components."
   ]
  },
  {
   "cell_type": "code",
   "execution_count": null,
   "id": "b646ac47",
   "metadata": {},
   "outputs": [],
   "source": []
  },
  {
   "cell_type": "code",
   "execution_count": null,
   "id": "16ed8819",
   "metadata": {
    "scrolled": false
   },
   "outputs": [],
   "source": []
  },
  {
   "cell_type": "markdown",
   "id": "883e0080",
   "metadata": {},
   "source": [
    "## Step 5: Apply LDA\n",
    "Perform LDA and extract the discriminant components."
   ]
  },
  {
   "cell_type": "code",
   "execution_count": null,
   "id": "f08869a5",
   "metadata": {
    "scrolled": false
   },
   "outputs": [],
   "source": []
  },
  {
   "cell_type": "markdown",
   "id": "b554f01a",
   "metadata": {},
   "source": [
    "## Step 6: Visualization\n",
    "Visualize PCA and LDA results using scatter plots."
   ]
  },
  {
   "cell_type": "code",
   "execution_count": null,
   "id": "268d4a13",
   "metadata": {},
   "outputs": [],
   "source": []
  },
  {
   "cell_type": "markdown",
   "id": "5fe96834",
   "metadata": {},
   "source": [
    "## Train the model using above data "
   ]
  },
  {
   "cell_type": "code",
   "execution_count": null,
   "id": "302b16c5",
   "metadata": {},
   "outputs": [],
   "source": []
  },
  {
   "cell_type": "markdown",
   "id": "d8691e42",
   "metadata": {},
   "source": [
    "## Step 7: Feature Selection using Filter Methods\n",
    "In this section, you will apply different filter methods such as:\n",
    "- **Pearson Correlation Coefficient**\n",
    "- **Chi-Square Test**\n",
    "- **Variance Thresholding**"
   ]
  },
  {
   "cell_type": "markdown",
   "id": "0c98fec8",
   "metadata": {},
   "source": [
    "### 8.1 Pearson Correlation Coefficient\n",
    "Calculate the correlation between features and the target variable."
   ]
  },
  {
   "cell_type": "code",
   "execution_count": null,
   "id": "f0abba56",
   "metadata": {},
   "outputs": [],
   "source": []
  },
  {
   "cell_type": "markdown",
   "id": "eb2c8cfa",
   "metadata": {},
   "source": [
    "### 8.2 Chi-Square Test\n",
    "Use the Chi-Square test to determine the relationship between features and the target variable."
   ]
  },
  {
   "cell_type": "code",
   "execution_count": null,
   "id": "d5e43317",
   "metadata": {},
   "outputs": [],
   "source": []
  },
  {
   "cell_type": "markdown",
   "id": "ad030f64",
   "metadata": {},
   "source": [
    "### 8.3 Variance Thresholding\n",
    "Remove features with low variance as they may not be useful for predictions."
   ]
  },
  {
   "cell_type": "code",
   "execution_count": null,
   "id": "b2793404",
   "metadata": {},
   "outputs": [],
   "source": []
  },
  {
   "cell_type": "code",
   "execution_count": null,
   "id": "f7745bea",
   "metadata": {},
   "outputs": [],
   "source": []
  },
  {
   "cell_type": "markdown",
   "id": "c082c0a9",
   "metadata": {},
   "source": [
    "## Step 9: Feature Selection using Wrapper Methods\n",
    "Wrapper methods evaluate feature subsets based on model performance.\n",
    "In this section, we will use:\n",
    "- **Recursive Feature Elimination (RFE)**\n",
    "- **Sequential Feature Selection (SFS)**"
   ]
  },
  {
   "cell_type": "markdown",
   "id": "a7845307",
   "metadata": {},
   "source": [
    "### 9.1 Recursive Feature Elimination (RFE)\n",
    "RFE removes the least important features iteratively until the optimal subset is reached."
   ]
  },
  {
   "cell_type": "code",
   "execution_count": null,
   "id": "4dd08855",
   "metadata": {},
   "outputs": [],
   "source": []
  },
  {
   "cell_type": "code",
   "execution_count": null,
   "id": "cd7bd02d",
   "metadata": {},
   "outputs": [],
   "source": []
  },
  {
   "cell_type": "markdown",
   "id": "a86b9b34",
   "metadata": {},
   "source": [
    "### 9.2 Sequential Feature Selection (SFS)\n",
    "SFS iteratively selects the best-performing features by adding or removing them."
   ]
  },
  {
   "cell_type": "code",
   "execution_count": null,
   "id": "952560fc",
   "metadata": {},
   "outputs": [],
   "source": []
  },
  {
   "cell_type": "markdown",
   "id": "559789a4",
   "metadata": {},
   "source": [
    "## Step 10: Applying PCA on Digits Dataset\n",
    "In this section, we will apply PCA on the `load_digits` dataset, which consists of handwritten digit images, and visualize its effect."
   ]
  },
  {
   "cell_type": "markdown",
   "id": "70ec81a0",
   "metadata": {},
   "source": [
    "### 10.1 Load and Visualize the Digits Dataset\n",
    "We will load the dataset and visualize some sample images."
   ]
  },
  {
   "cell_type": "code",
   "execution_count": null,
   "id": "9cdfb7b8",
   "metadata": {},
   "outputs": [],
   "source": []
  },
  {
   "cell_type": "markdown",
   "id": "a88b535d",
   "metadata": {},
   "source": [
    "### 10.2 Apply PCA and Reduce Dimensions\n",
    "We will reduce the dataset to 2 principal components and visualize the transformed data."
   ]
  },
  {
   "cell_type": "code",
   "execution_count": null,
   "id": "fe1c28f7",
   "metadata": {},
   "outputs": [],
   "source": []
  },
  {
   "cell_type": "code",
   "execution_count": null,
   "id": "abd5c334",
   "metadata": {},
   "outputs": [],
   "source": []
  },
  {
   "cell_type": "code",
   "execution_count": null,
   "id": "d43bbffd",
   "metadata": {},
   "outputs": [],
   "source": []
  },
  {
   "cell_type": "code",
   "execution_count": null,
   "id": "d6acd055",
   "metadata": {},
   "outputs": [],
   "source": []
  },
  {
   "cell_type": "code",
   "execution_count": null,
   "id": "dc3605f3",
   "metadata": {},
   "outputs": [],
   "source": []
  },
  {
   "cell_type": "code",
   "execution_count": null,
   "id": "010c867c",
   "metadata": {},
   "outputs": [],
   "source": []
  },
  {
   "cell_type": "code",
   "execution_count": null,
   "id": "70936ee5",
   "metadata": {},
   "outputs": [],
   "source": []
  },
  {
   "cell_type": "code",
   "execution_count": null,
   "id": "068f9695",
   "metadata": {},
   "outputs": [],
   "source": []
  },
  {
   "cell_type": "code",
   "execution_count": null,
   "id": "af27d1ab",
   "metadata": {},
   "outputs": [],
   "source": []
  },
  {
   "cell_type": "code",
   "execution_count": null,
   "id": "2b8cb59d",
   "metadata": {},
   "outputs": [],
   "source": []
  },
  {
   "cell_type": "code",
   "execution_count": null,
   "id": "5f02b247",
   "metadata": {},
   "outputs": [],
   "source": []
  }
 ],
 "metadata": {
  "kernelspec": {
   "display_name": "Python 3 (ipykernel)",
   "language": "python",
   "name": "python3"
  },
  "language_info": {
   "codemirror_mode": {
    "name": "ipython",
    "version": 3
   },
   "file_extension": ".py",
   "mimetype": "text/x-python",
   "name": "python",
   "nbconvert_exporter": "python",
   "pygments_lexer": "ipython3",
   "version": "3.9.13"
  }
 },
 "nbformat": 4,
 "nbformat_minor": 5
}
